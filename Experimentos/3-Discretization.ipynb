{
 "cells": [
  {
   "cell_type": "code",
   "execution_count": 5,
   "id": "422ba25c",
   "metadata": {},
   "outputs": [],
   "source": [
    "import pandas as pd\n",
    "from mdlp.discretization import MDLP\n",
    "from sklearn.preprocessing import LabelEncoder\n",
    "import numpy as np\n",
    "import os"
   ]
  },
  {
   "cell_type": "code",
   "execution_count": 6,
   "id": "139138fc-27a5-4b5c-b400-1652dc37fbfb",
   "metadata": {},
   "outputs": [],
   "source": [
    "reais_escolhidos = ['appendicitis',\n",
    " 'balance',\n",
    " 'banana',\n",
    " 'cleveland',\n",
    " 'ecoli',\n",
    " 'glass',\n",
    " 'iris',\n",
    " 'led7digit',\n",
    " 'magic',\n",
    " 'movement_libras',\n",
    " 'phoneme',\n",
    " 'pima',\n",
    " 'ring',\n",
    " 'segment',\n",
    " 'sonar',\n",
    " 'spambase',\n",
    " 'texture',\n",
    " 'titanic',\n",
    " 'twonorm',\n",
    " 'wdbc',\n",
    " 'wine',\n",
    " 'winequality-red',\n",
    " 'winequality-white',\n",
    " 'yeast']"
   ]
  },
  {
   "cell_type": "code",
   "execution_count": 7,
   "id": "77304e67-d792-47d9-ae0b-22a3621cb710",
   "metadata": {},
   "outputs": [],
   "source": [
    "for d in reais_escolhidos:\n",
    "    for i in range(1, 11):\n",
    "        old_name = f'../Keel XLSX/keelxlsx/dataset_discretized/{d}/{d}-{i}-teste.xlsx'\n",
    "        new_name = f'../Keel XLSX/keelxlsx/dataset_discretized/{d}/{d}-{i}-test.xlsx'\n",
    "        os.rename(old_name, new_name)\n",
    "        \n",
    "        old_name = f'../Keel XLSX/keelxlsx/dataset_discretized/{d}/{d}-{i}-treino.xlsx'\n",
    "        new_name = f'../Keel XLSX/keelxlsx/dataset_discretized/{d}/{d}-{i}-train.xlsx'\n",
    "        os.rename(old_name, new_name)"
   ]
  },
  {
   "cell_type": "code",
   "execution_count": 33,
   "id": "53db456d",
   "metadata": {},
   "outputs": [],
   "source": [
    "for dataset in reais_escolhidos:\n",
    "    for i in range(1, 11):\n",
    "        disct = MDLP()\n",
    "        le = LabelEncoder()\n",
    "        \n",
    "        treino = pd.read_excel(f\"../Keel XLSX/keelxlsx/datasets/{dataset}/{dataset}-{i}-train.xlsx\")\n",
    "        teste = pd.read_excel(f\"../Keel XLSX/keelxlsx/datasets/{dataset}/{dataset}-{i}-test.xlsx\")\n",
    "        \n",
    "        x = treino[treino.columns[:-1]].to_numpy()\n",
    "        y = treino[treino.columns[-1]].to_numpy()       \n",
    "        \n",
    "        x_teste = teste[teste.columns[:-1]].to_numpy()\n",
    "        y_teste = teste[teste.columns[-1]].to_numpy()\n",
    "        \n",
    "        y = le.fit_transform(y)\n",
    "        y_teste = le.transform(y_teste)\n",
    "        \n",
    "        treino_transformed = disct.fit_transform(x, y)\n",
    "        teste_transformed = disct.transform(x_teste)\n",
    "        \n",
    "        treino_transformed = np.concatenate((treino_transformed, y.reshape((-1,1))), axis=1)\n",
    "        teste_transformed = np.concatenate((teste_transformed, y_teste.reshape((-1,1))), axis=1)\n",
    "        \n",
    "        pd.DataFrame(treino_transformed, columns=treino.columns).to_excel(f\"../Keel XLSX/keelxlsx/dataset_discretized/{dataset}/{dataset}-{i}-train.xlsx\", index=False)\n",
    "        pd.DataFrame(teste_transformed, columns=teste.columns).to_excel(f\"../Keel XLSX/keelxlsx/dataset_discretized/{dataset}/{dataset}-{i}-test.xlsx\", index=False)"
   ]
  }
 ],
 "metadata": {
  "kernelspec": {
   "display_name": "Python 3 (ipykernel)",
   "language": "python",
   "name": "python3"
  },
  "language_info": {
   "codemirror_mode": {
    "name": "ipython",
    "version": 3
   },
   "file_extension": ".py",
   "mimetype": "text/x-python",
   "name": "python",
   "nbconvert_exporter": "python",
   "pygments_lexer": "ipython3",
   "version": "3.9.7"
  }
 },
 "nbformat": 4,
 "nbformat_minor": 5
}
